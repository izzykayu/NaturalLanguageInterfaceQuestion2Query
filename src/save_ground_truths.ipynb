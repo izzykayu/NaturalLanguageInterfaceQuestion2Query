{
 "cells": [
  {
   "cell_type": "code",
   "execution_count": 17,
   "metadata": {},
   "outputs": [],
   "source": [
    "import pandas as pd\n",
    "import numpy as np"
   ]
  },
  {
   "cell_type": "code",
   "execution_count": 18,
   "metadata": {},
   "outputs": [],
   "source": [
    "#matching_list = [\"PROBLEM_1\",\"TREATMENT_1\",\"RELIGION_1\", \"INSURANCE_1\",\"ETHINICITY_1\",\"NUMERIC_1\",\"TEST_1\",\"PROBLEM_2\",\"TREATMENT_2\",\"RELIGION_2\", \"INSURANCE_2\",\"ETHINICITY_2\",\"NUMERIC_2\",\"TEST_2\",]\n",
    "matching_list = [\"PROBLEM_1\",\"TREATMENT_1\",\"TEST_1\",\"PROBLEM_2\",\"TREATMENT_2\",\"TEST_2\"]\n",
    "key_conversion = {'PROBLEM_1':'problem',\n",
    "                  'PROBLEM_2':'problem',\n",
    "                  'TREATMENT_1':'treatment',\n",
    "                  'TREATMENT_2':'treatment',\n",
    "                  'TEST_1':'test',\n",
    "                  'TEST_2':'test'}"
   ]
  },
  {
   "cell_type": "code",
   "execution_count": 21,
   "metadata": {},
   "outputs": [],
   "source": [
    "question_sql_dataframe = pd.read_csv('./final.csv')\n",
    "output_file = open('./test_questions_ground_truth.con', 'w')"
   ]
  },
  {
   "cell_type": "code",
   "execution_count": 22,
   "metadata": {},
   "outputs": [],
   "source": [
    "for line_index, row in question_sql_dataframe.iterrows():\n",
    "    nl, nl_template= row['nl'], row['nl_template']\n",
    "    nl = nl.split()\n",
    "    nl_template = nl_template.split()\n",
    "    for word_index, word in enumerate(nl_template):\n",
    "        if word in matching_list:\n",
    "            output_file.write(\"c=\\\"\" + nl[word_index] + \"\\\"\" + \" \" + str(line_index+1) + \":\" + str(word_index) + \" \" + str(line_index+1) + \":\" + str(word_index) + \"||t=\" + \"\\\"\" + key_conversion[word] + \"\\\"\")\n",
    "            \n",
    "output_file.close()            "
   ]
  },
  {
   "cell_type": "code",
   "execution_count": null,
   "metadata": {},
   "outputs": [],
   "source": []
  },
  {
   "cell_type": "code",
   "execution_count": null,
   "metadata": {},
   "outputs": [],
   "source": []
  }
 ],
 "metadata": {
  "kernelspec": {
   "display_name": "Python [conda env:pytorch_p27]",
   "language": "python",
   "name": "conda-env-pytorch_p27-py"
  },
  "language_info": {
   "codemirror_mode": {
    "name": "ipython",
    "version": 2
   },
   "file_extension": ".py",
   "mimetype": "text/x-python",
   "name": "python",
   "nbconvert_exporter": "python",
   "pygments_lexer": "ipython2",
   "version": "2.7.14"
  }
 },
 "nbformat": 4,
 "nbformat_minor": 2
}
